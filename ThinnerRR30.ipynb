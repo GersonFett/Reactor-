{
  "nbformat": 4,
  "nbformat_minor": 0,
  "metadata": {
    "colab": {
      "name": "Untitled0.ipynb",
      "provenance": [],
      "authorship_tag": "ABX9TyNgTC4OA8TOKfcLwBOIaomO",
      "include_colab_link": true
    },
    "kernelspec": {
      "name": "python3",
      "display_name": "Python 3"
    },
    "language_info": {
      "name": "python"
    }
  },
  "cells": [
    {
      "cell_type": "markdown",
      "metadata": {
        "id": "view-in-github",
        "colab_type": "text"
      },
      "source": [
        "<a href=\"https://colab.research.google.com/github/GersonFett/Reactor-/blob/main/ThinnerRR30.ipynb\" target=\"_parent\"><img src=\"https://colab.research.google.com/assets/colab-badge.svg\" alt=\"Open In Colab\"/></a>"
      ]
    },
    {
      "cell_type": "code",
      "metadata": {
        "id": "Nh3wy4PxQILE"
      },
      "source": [
        "import pandas as pd\n",
        "import matplotlib.pyplot as plt\n",
        "import seaborn as sns\n",
        "import numpy as np\n",
        "%matplotlib inline"
      ],
      "execution_count": null,
      "outputs": []
    },
    {
      "cell_type": "code",
      "metadata": {
        "id": "nJa94RLiQLc2"
      },
      "source": [
        "dsthinner = pd.read_csv('/content/sample_data/CorrectFormulasAt30 (1).csv',';')"
      ],
      "execution_count": null,
      "outputs": []
    },
    {
      "cell_type": "code",
      "metadata": {
        "id": "W1TsyI3fQQHy"
      },
      "source": [
        "pd.set_option('display.max_columns', None) #abre todas janelas possíveis"
      ],
      "execution_count": null,
      "outputs": []
    },
    {
      "cell_type": "code",
      "metadata": {
        "colab": {
          "base_uri": "https://localhost:8080/",
          "height": 241
        },
        "id": "JGpHjSWwQTXa",
        "outputId": "05e6c428-9b0e-476e-fe07-14c0166bfd97"
      },
      "source": [
        "dsthinner.head()"
      ],
      "execution_count": null,
      "outputs": [
        {
          "output_type": "execute_result",
          "data": {
            "text/html": [
              "<div>\n",
              "<style scoped>\n",
              "    .dataframe tbody tr th:only-of-type {\n",
              "        vertical-align: middle;\n",
              "    }\n",
              "\n",
              "    .dataframe tbody tr th {\n",
              "        vertical-align: top;\n",
              "    }\n",
              "\n",
              "    .dataframe thead th {\n",
              "        text-align: right;\n",
              "    }\n",
              "</style>\n",
              "<table border=\"1\" class=\"dataframe\">\n",
              "  <thead>\n",
              "    <tr style=\"text-align: right;\">\n",
              "      <th></th>\n",
              "      <th>FormulaType</th>\n",
              "      <th>Family</th>\n",
              "      <th>Code</th>\n",
              "      <th>Batch</th>\n",
              "      <th>Operator</th>\n",
              "      <th>Replica</th>\n",
              "      <th>S02</th>\n",
              "      <th>S05</th>\n",
              "      <th>S07</th>\n",
              "      <th>S15</th>\n",
              "      <th>S18</th>\n",
              "      <th>S19</th>\n",
              "      <th>S23</th>\n",
              "      <th>S24</th>\n",
              "      <th>S28</th>\n",
              "      <th>S30</th>\n",
              "      <th>S31</th>\n",
              "      <th>S34</th>\n",
              "      <th>S35</th>\n",
              "      <th>S36</th>\n",
              "      <th>S40</th>\n",
              "      <th>S43</th>\n",
              "      <th>S45</th>\n",
              "      <th>S46</th>\n",
              "      <th>S48</th>\n",
              "      <th>S50</th>\n",
              "      <th>S51</th>\n",
              "      <th>S52</th>\n",
              "      <th>S56</th>\n",
              "      <th>New Density</th>\n",
              "    </tr>\n",
              "  </thead>\n",
              "  <tbody>\n",
              "    <tr>\n",
              "      <th>0</th>\n",
              "      <td>Thinner</td>\n",
              "      <td>F0</td>\n",
              "      <td>C1000000</td>\n",
              "      <td>B0</td>\n",
              "      <td>O0</td>\n",
              "      <td>0</td>\n",
              "      <td>0.0</td>\n",
              "      <td>0.0</td>\n",
              "      <td>0.0</td>\n",
              "      <td>34.854</td>\n",
              "      <td>0.0</td>\n",
              "      <td>0.0</td>\n",
              "      <td>0.0</td>\n",
              "      <td>0.0</td>\n",
              "      <td>0.0</td>\n",
              "      <td>0.0</td>\n",
              "      <td>0.0</td>\n",
              "      <td>0.0</td>\n",
              "      <td>25.522</td>\n",
              "      <td>0.0</td>\n",
              "      <td>0.0</td>\n",
              "      <td>0.0</td>\n",
              "      <td>0.0</td>\n",
              "      <td>0.0</td>\n",
              "      <td>0.0</td>\n",
              "      <td>0.0</td>\n",
              "      <td>22.463</td>\n",
              "      <td>17.161</td>\n",
              "      <td>0</td>\n",
              "      <td>0.912145</td>\n",
              "    </tr>\n",
              "    <tr>\n",
              "      <th>1</th>\n",
              "      <td>Thinner</td>\n",
              "      <td>F0</td>\n",
              "      <td>C1000000</td>\n",
              "      <td>B0</td>\n",
              "      <td>O0</td>\n",
              "      <td>1</td>\n",
              "      <td>0.0</td>\n",
              "      <td>0.0</td>\n",
              "      <td>0.0</td>\n",
              "      <td>34.854</td>\n",
              "      <td>0.0</td>\n",
              "      <td>0.0</td>\n",
              "      <td>0.0</td>\n",
              "      <td>0.0</td>\n",
              "      <td>0.0</td>\n",
              "      <td>0.0</td>\n",
              "      <td>0.0</td>\n",
              "      <td>0.0</td>\n",
              "      <td>25.522</td>\n",
              "      <td>0.0</td>\n",
              "      <td>0.0</td>\n",
              "      <td>0.0</td>\n",
              "      <td>0.0</td>\n",
              "      <td>0.0</td>\n",
              "      <td>0.0</td>\n",
              "      <td>0.0</td>\n",
              "      <td>22.463</td>\n",
              "      <td>17.161</td>\n",
              "      <td>0</td>\n",
              "      <td>0.912160</td>\n",
              "    </tr>\n",
              "    <tr>\n",
              "      <th>2</th>\n",
              "      <td>Thinner</td>\n",
              "      <td>F0</td>\n",
              "      <td>C1000000</td>\n",
              "      <td>B0</td>\n",
              "      <td>O0</td>\n",
              "      <td>2</td>\n",
              "      <td>0.0</td>\n",
              "      <td>0.0</td>\n",
              "      <td>0.0</td>\n",
              "      <td>34.854</td>\n",
              "      <td>0.0</td>\n",
              "      <td>0.0</td>\n",
              "      <td>0.0</td>\n",
              "      <td>0.0</td>\n",
              "      <td>0.0</td>\n",
              "      <td>0.0</td>\n",
              "      <td>0.0</td>\n",
              "      <td>0.0</td>\n",
              "      <td>25.522</td>\n",
              "      <td>0.0</td>\n",
              "      <td>0.0</td>\n",
              "      <td>0.0</td>\n",
              "      <td>0.0</td>\n",
              "      <td>0.0</td>\n",
              "      <td>0.0</td>\n",
              "      <td>0.0</td>\n",
              "      <td>22.463</td>\n",
              "      <td>17.161</td>\n",
              "      <td>0</td>\n",
              "      <td>0.912280</td>\n",
              "    </tr>\n",
              "    <tr>\n",
              "      <th>3</th>\n",
              "      <td>Thinner</td>\n",
              "      <td>F0</td>\n",
              "      <td>C1000000</td>\n",
              "      <td>B0</td>\n",
              "      <td>O0</td>\n",
              "      <td>3</td>\n",
              "      <td>0.0</td>\n",
              "      <td>0.0</td>\n",
              "      <td>0.0</td>\n",
              "      <td>34.854</td>\n",
              "      <td>0.0</td>\n",
              "      <td>0.0</td>\n",
              "      <td>0.0</td>\n",
              "      <td>0.0</td>\n",
              "      <td>0.0</td>\n",
              "      <td>0.0</td>\n",
              "      <td>0.0</td>\n",
              "      <td>0.0</td>\n",
              "      <td>25.522</td>\n",
              "      <td>0.0</td>\n",
              "      <td>0.0</td>\n",
              "      <td>0.0</td>\n",
              "      <td>0.0</td>\n",
              "      <td>0.0</td>\n",
              "      <td>0.0</td>\n",
              "      <td>0.0</td>\n",
              "      <td>22.463</td>\n",
              "      <td>17.161</td>\n",
              "      <td>0</td>\n",
              "      <td>0.912303</td>\n",
              "    </tr>\n",
              "    <tr>\n",
              "      <th>4</th>\n",
              "      <td>Thinner</td>\n",
              "      <td>F0</td>\n",
              "      <td>C1000000</td>\n",
              "      <td>B0</td>\n",
              "      <td>O0</td>\n",
              "      <td>4</td>\n",
              "      <td>0.0</td>\n",
              "      <td>0.0</td>\n",
              "      <td>0.0</td>\n",
              "      <td>34.854</td>\n",
              "      <td>0.0</td>\n",
              "      <td>0.0</td>\n",
              "      <td>0.0</td>\n",
              "      <td>0.0</td>\n",
              "      <td>0.0</td>\n",
              "      <td>0.0</td>\n",
              "      <td>0.0</td>\n",
              "      <td>0.0</td>\n",
              "      <td>25.522</td>\n",
              "      <td>0.0</td>\n",
              "      <td>0.0</td>\n",
              "      <td>0.0</td>\n",
              "      <td>0.0</td>\n",
              "      <td>0.0</td>\n",
              "      <td>0.0</td>\n",
              "      <td>0.0</td>\n",
              "      <td>22.463</td>\n",
              "      <td>17.161</td>\n",
              "      <td>0</td>\n",
              "      <td>0.912253</td>\n",
              "    </tr>\n",
              "  </tbody>\n",
              "</table>\n",
              "</div>"
            ],
            "text/plain": [
              "  FormulaType Family      Code Batch Operator  Replica  S02  S05  S07     S15  \\\n",
              "0     Thinner     F0  C1000000    B0       O0        0  0.0  0.0  0.0  34.854   \n",
              "1     Thinner     F0  C1000000    B0       O0        1  0.0  0.0  0.0  34.854   \n",
              "2     Thinner     F0  C1000000    B0       O0        2  0.0  0.0  0.0  34.854   \n",
              "3     Thinner     F0  C1000000    B0       O0        3  0.0  0.0  0.0  34.854   \n",
              "4     Thinner     F0  C1000000    B0       O0        4  0.0  0.0  0.0  34.854   \n",
              "\n",
              "   S18  S19  S23  S24  S28  S30  S31  S34     S35  S36  S40  S43  S45  S46  \\\n",
              "0  0.0  0.0  0.0  0.0  0.0  0.0  0.0  0.0  25.522  0.0  0.0  0.0  0.0  0.0   \n",
              "1  0.0  0.0  0.0  0.0  0.0  0.0  0.0  0.0  25.522  0.0  0.0  0.0  0.0  0.0   \n",
              "2  0.0  0.0  0.0  0.0  0.0  0.0  0.0  0.0  25.522  0.0  0.0  0.0  0.0  0.0   \n",
              "3  0.0  0.0  0.0  0.0  0.0  0.0  0.0  0.0  25.522  0.0  0.0  0.0  0.0  0.0   \n",
              "4  0.0  0.0  0.0  0.0  0.0  0.0  0.0  0.0  25.522  0.0  0.0  0.0  0.0  0.0   \n",
              "\n",
              "   S48  S50     S51     S52  S56  New Density  \n",
              "0  0.0  0.0  22.463  17.161    0     0.912145  \n",
              "1  0.0  0.0  22.463  17.161    0     0.912160  \n",
              "2  0.0  0.0  22.463  17.161    0     0.912280  \n",
              "3  0.0  0.0  22.463  17.161    0     0.912303  \n",
              "4  0.0  0.0  22.463  17.161    0     0.912253  "
            ]
          },
          "metadata": {},
          "execution_count": 18
        }
      ]
    },
    {
      "cell_type": "code",
      "metadata": {
        "colab": {
          "base_uri": "https://localhost:8080/"
        },
        "id": "pmoXMa3zWbTH",
        "outputId": "3df3dd5e-502e-4eb5-cd54-a13af4ef9879"
      },
      "source": [
        "dsthinner.info()"
      ],
      "execution_count": null,
      "outputs": [
        {
          "output_type": "stream",
          "text": [
            "<class 'pandas.core.frame.DataFrame'>\n",
            "RangeIndex: 1350 entries, 0 to 1349\n",
            "Data columns (total 30 columns):\n",
            " #   Column       Non-Null Count  Dtype  \n",
            "---  ------       --------------  -----  \n",
            " 0   FormulaType  1350 non-null   object \n",
            " 1   Family       1350 non-null   object \n",
            " 2   Code         1350 non-null   object \n",
            " 3   Batch        1350 non-null   object \n",
            " 4   Operator     1350 non-null   object \n",
            " 5   Replica      1350 non-null   int64  \n",
            " 6   S02          1350 non-null   float64\n",
            " 7   S05          1350 non-null   float64\n",
            " 8   S07          1350 non-null   float64\n",
            " 9   S15          1350 non-null   float64\n",
            " 10  S18          1350 non-null   float64\n",
            " 11  S19          1350 non-null   float64\n",
            " 12  S23          1350 non-null   float64\n",
            " 13  S24          1350 non-null   float64\n",
            " 14  S28          1350 non-null   float64\n",
            " 15  S30          1350 non-null   float64\n",
            " 16  S31          1350 non-null   float64\n",
            " 17  S34          1350 non-null   float64\n",
            " 18  S35          1350 non-null   float64\n",
            " 19  S36          1350 non-null   float64\n",
            " 20  S40          1350 non-null   float64\n",
            " 21  S43          1350 non-null   float64\n",
            " 22  S45          1350 non-null   float64\n",
            " 23  S46          1350 non-null   float64\n",
            " 24  S48          1350 non-null   float64\n",
            " 25  S50          1350 non-null   float64\n",
            " 26  S51          1350 non-null   float64\n",
            " 27  S52          1350 non-null   float64\n",
            " 28  S56          1350 non-null   int64  \n",
            " 29  New Density  1350 non-null   float64\n",
            "dtypes: float64(23), int64(2), object(5)\n",
            "memory usage: 316.5+ KB\n"
          ],
          "name": "stdout"
        }
      ]
    },
    {
      "cell_type": "code",
      "metadata": {
        "colab": {
          "base_uri": "https://localhost:8080/"
        },
        "id": "Rs1h0OJ9Wiq8",
        "outputId": "21eca834-7c73-4d1f-c8b5-6f445e3ee0ea"
      },
      "source": [
        "dsthinner.isnull().sum() #retorna valores vazios ou NaN "
      ],
      "execution_count": null,
      "outputs": [
        {
          "output_type": "execute_result",
          "data": {
            "text/plain": [
              "FormulaType    0\n",
              "Family         0\n",
              "Code           0\n",
              "Batch          0\n",
              "Operator       0\n",
              "Replica        0\n",
              "S02            0\n",
              "S05            0\n",
              "S07            0\n",
              "S15            0\n",
              "S18            0\n",
              "S19            0\n",
              "S23            0\n",
              "S24            0\n",
              "S28            0\n",
              "S30            0\n",
              "S31            0\n",
              "S34            0\n",
              "S35            0\n",
              "S36            0\n",
              "S40            0\n",
              "S43            0\n",
              "S45            0\n",
              "S46            0\n",
              "S48            0\n",
              "S50            0\n",
              "S51            0\n",
              "S52            0\n",
              "S56            0\n",
              "New Density    0\n",
              "dtype: int64"
            ]
          },
          "metadata": {},
          "execution_count": 20
        }
      ]
    },
    {
      "cell_type": "code",
      "metadata": {
        "colab": {
          "base_uri": "https://localhost:8080/",
          "height": 536
        },
        "id": "9KAZHVKsWlDV",
        "outputId": "d7fde1a6-bb44-448b-cec1-edf2f85f4b11"
      },
      "source": [
        "plt.figure(figsize = (10, 8))\n",
        "sns.heatmap(dsthinner.isnull(),yticklabels=False, cbar=False, cmap='YlGnBu')\n",
        "plt.show()"
      ],
      "execution_count": null,
      "outputs": [
        {
          "output_type": "display_data",
          "data": {
            "image/png": "[encoded data removed]",
            "text/plain": [
              "<Figure size 720x576 with 1 Axes>"
            ]
          },
          "metadata": {
            "needs_background": "light"
          }
        }
      ]
    },
    {
      "cell_type": "code",
      "metadata": {
        "id": "2RuyffYwWnIM"
      },
      "source": [
        "dsthinner.drop(['FormulaType'], axis=1,inplace=True)  #elimina a coluna Id"
      ],
      "execution_count": null,
      "outputs": []
    },
    {
      "cell_type": "code",
      "metadata": {
        "id": "fasj5acIWpOO"
      },
      "source": [
        "from sklearn.preprocessing import LabelEncoder\n",
        "le_Family =LabelEncoder()  #habilita transformar apenas variáveis categoricas escolhidas manualmente em numéricas de 0 a n\n",
        "le_Code =LabelEncoder()\n",
        "le_Batch =LabelEncoder()\n",
        "le_Operator =LabelEncoder()"
      ],
      "execution_count": null,
      "outputs": []
    },
    {
      "cell_type": "code",
      "metadata": {
        "id": "Zs3T4OVnWsAc"
      },
      "source": [
        "dsthinner['N_Family']=le_Family.fit_transform(dsthinner['Family']) #Cria novas colunas numéricas com variáveis categóricas habilitadas\n",
        "dsthinner['N_Code']=le_Code.fit_transform(dsthinner['Code'])\n",
        "dsthinner['N_Batch']=le_Batch.fit_transform(dsthinner['Batch'])\n",
        "dsthinner['N_Operator']=le_Operator.fit_transform(dsthinner['Operator'])"
      ],
      "execution_count": null,
      "outputs": []
    },
    {
      "cell_type": "code",
      "metadata": {
        "colab": {
          "base_uri": "https://localhost:8080/",
          "height": 241
        },
        "id": "Rh4b2a-4Wv6G",
        "outputId": "af03149e-3e23-483b-e5e1-2e840a9ee4e3"
      },
      "source": [
        "dsthinner.head()"
      ],
      "execution_count": null,
      "outputs": [
        {
          "output_type": "execute_result",
          "data": {
            "text/html": [
              "<div>\n",
              "<style scoped>\n",
              "    .dataframe tbody tr th:only-of-type {\n",
              "        vertical-align: middle;\n",
              "    }\n",
              "\n",
              "    .dataframe tbody tr th {\n",
              "        vertical-align: top;\n",
              "    }\n",
              "\n",
              "    .dataframe thead th {\n",
              "        text-align: right;\n",
              "    }\n",
              "</style>\n",
              "<table border=\"1\" class=\"dataframe\">\n",
              "  <thead>\n",
              "    <tr style=\"text-align: right;\">\n",
              "      <th></th>\n",
              "      <th>Family</th>\n",
              "      <th>Code</th>\n",
              "      <th>Batch</th>\n",
              "      <th>Operator</th>\n",
              "      <th>Replica</th>\n",
              "      <th>S02</th>\n",
              "      <th>S05</th>\n",
              "      <th>S07</th>\n",
              "      <th>S15</th>\n",
              "      <th>S18</th>\n",
              "      <th>S19</th>\n",
              "      <th>S23</th>\n",
              "      <th>S24</th>\n",
              "      <th>S28</th>\n",
              "      <th>S30</th>\n",
              "      <th>S31</th>\n",
              "      <th>S34</th>\n",
              "      <th>S35</th>\n",
              "      <th>S36</th>\n",
              "      <th>S40</th>\n",
              "      <th>S43</th>\n",
              "      <th>S45</th>\n",
              "      <th>S46</th>\n",
              "      <th>S48</th>\n",
              "      <th>S50</th>\n",
              "      <th>S51</th>\n",
              "      <th>S52</th>\n",
              "      <th>S56</th>\n",
              "      <th>New Density</th>\n",
              "      <th>N_Family</th>\n",
              "      <th>N_Code</th>\n",
              "      <th>N_Batch</th>\n",
              "      <th>N_Operator</th>\n",
              "    </tr>\n",
              "  </thead>\n",
              "  <tbody>\n",
              "    <tr>\n",
              "      <th>0</th>\n",
              "      <td>F0</td>\n",
              "      <td>C1000000</td>\n",
              "      <td>B0</td>\n",
              "      <td>O0</td>\n",
              "      <td>0</td>\n",
              "      <td>0.0</td>\n",
              "      <td>0.0</td>\n",
              "      <td>0.0</td>\n",
              "      <td>34.854</td>\n",
              "      <td>0.0</td>\n",
              "      <td>0.0</td>\n",
              "      <td>0.0</td>\n",
              "      <td>0.0</td>\n",
              "      <td>0.0</td>\n",
              "      <td>0.0</td>\n",
              "      <td>0.0</td>\n",
              "      <td>0.0</td>\n",
              "      <td>25.522</td>\n",
              "      <td>0.0</td>\n",
              "      <td>0.0</td>\n",
              "      <td>0.0</td>\n",
              "      <td>0.0</td>\n",
              "      <td>0.0</td>\n",
              "      <td>0.0</td>\n",
              "      <td>0.0</td>\n",
              "      <td>22.463</td>\n",
              "      <td>17.161</td>\n",
              "      <td>0</td>\n",
              "      <td>0.912145</td>\n",
              "      <td>0</td>\n",
              "      <td>0</td>\n",
              "      <td>0</td>\n",
              "      <td>0</td>\n",
              "    </tr>\n",
              "    <tr>\n",
              "      <th>1</th>\n",
              "      <td>F0</td>\n",
              "      <td>C1000000</td>\n",
              "      <td>B0</td>\n",
              "      <td>O0</td>\n",
              "      <td>1</td>\n",
              "      <td>0.0</td>\n",
              "      <td>0.0</td>\n",
              "      <td>0.0</td>\n",
              "      <td>34.854</td>\n",
              "      <td>0.0</td>\n",
              "      <td>0.0</td>\n",
              "      <td>0.0</td>\n",
              "      <td>0.0</td>\n",
              "      <td>0.0</td>\n",
              "      <td>0.0</td>\n",
              "      <td>0.0</td>\n",
              "      <td>0.0</td>\n",
              "      <td>25.522</td>\n",
              "      <td>0.0</td>\n",
              "      <td>0.0</td>\n",
              "      <td>0.0</td>\n",
              "      <td>0.0</td>\n",
              "      <td>0.0</td>\n",
              "      <td>0.0</td>\n",
              "      <td>0.0</td>\n",
              "      <td>22.463</td>\n",
              "      <td>17.161</td>\n",
              "      <td>0</td>\n",
              "      <td>0.912160</td>\n",
              "      <td>0</td>\n",
              "      <td>0</td>\n",
              "      <td>0</td>\n",
              "      <td>0</td>\n",
              "    </tr>\n",
              "    <tr>\n",
              "      <th>2</th>\n",
              "      <td>F0</td>\n",
              "      <td>C1000000</td>\n",
              "      <td>B0</td>\n",
              "      <td>O0</td>\n",
              "      <td>2</td>\n",
              "      <td>0.0</td>\n",
              "      <td>0.0</td>\n",
              "      <td>0.0</td>\n",
              "      <td>34.854</td>\n",
              "      <td>0.0</td>\n",
              "      <td>0.0</td>\n",
              "      <td>0.0</td>\n",
              "      <td>0.0</td>\n",
              "      <td>0.0</td>\n",
              "      <td>0.0</td>\n",
              "      <td>0.0</td>\n",
              "      <td>0.0</td>\n",
              "      <td>25.522</td>\n",
              "      <td>0.0</td>\n",
              "      <td>0.0</td>\n",
              "      <td>0.0</td>\n",
              "      <td>0.0</td>\n",
              "      <td>0.0</td>\n",
              "      <td>0.0</td>\n",
              "      <td>0.0</td>\n",
              "      <td>22.463</td>\n",
              "      <td>17.161</td>\n",
              "      <td>0</td>\n",
              "      <td>0.912280</td>\n",
              "      <td>0</td>\n",
              "      <td>0</td>\n",
              "      <td>0</td>\n",
              "      <td>0</td>\n",
              "    </tr>\n",
              "    <tr>\n",
              "      <th>3</th>\n",
              "      <td>F0</td>\n",
              "      <td>C1000000</td>\n",
              "      <td>B0</td>\n",
              "      <td>O0</td>\n",
              "      <td>3</td>\n",
              "      <td>0.0</td>\n",
              "      <td>0.0</td>\n",
              "      <td>0.0</td>\n",
              "      <td>34.854</td>\n",
              "      <td>0.0</td>\n",
              "      <td>0.0</td>\n",
              "      <td>0.0</td>\n",
              "      <td>0.0</td>\n",
              "      <td>0.0</td>\n",
              "      <td>0.0</td>\n",
              "      <td>0.0</td>\n",
              "      <td>0.0</td>\n",
              "      <td>25.522</td>\n",
              "      <td>0.0</td>\n",
              "      <td>0.0</td>\n",
              "      <td>0.0</td>\n",
              "      <td>0.0</td>\n",
              "      <td>0.0</td>\n",
              "      <td>0.0</td>\n",
              "      <td>0.0</td>\n",
              "      <td>22.463</td>\n",
              "      <td>17.161</td>\n",
              "      <td>0</td>\n",
              "      <td>0.912303</td>\n",
              "      <td>0</td>\n",
              "      <td>0</td>\n",
              "      <td>0</td>\n",
              "      <td>0</td>\n",
              "    </tr>\n",
              "    <tr>\n",
              "      <th>4</th>\n",
              "      <td>F0</td>\n",
              "      <td>C1000000</td>\n",
              "      <td>B0</td>\n",
              "      <td>O0</td>\n",
              "      <td>4</td>\n",
              "      <td>0.0</td>\n",
              "      <td>0.0</td>\n",
              "      <td>0.0</td>\n",
              "      <td>34.854</td>\n",
              "      <td>0.0</td>\n",
              "      <td>0.0</td>\n",
              "      <td>0.0</td>\n",
              "      <td>0.0</td>\n",
              "      <td>0.0</td>\n",
              "      <td>0.0</td>\n",
              "      <td>0.0</td>\n",
              "      <td>0.0</td>\n",
              "      <td>25.522</td>\n",
              "      <td>0.0</td>\n",
              "      <td>0.0</td>\n",
              "      <td>0.0</td>\n",
              "      <td>0.0</td>\n",
              "      <td>0.0</td>\n",
              "      <td>0.0</td>\n",
              "      <td>0.0</td>\n",
              "      <td>22.463</td>\n",
              "      <td>17.161</td>\n",
              "      <td>0</td>\n",
              "      <td>0.912253</td>\n",
              "      <td>0</td>\n",
              "      <td>0</td>\n",
              "      <td>0</td>\n",
              "      <td>0</td>\n",
              "    </tr>\n",
              "  </tbody>\n",
              "</table>\n",
              "</div>"
            ],
            "text/plain": [
              "  Family      Code Batch Operator  Replica  S02  S05  S07     S15  S18  S19  \\\n",
              "0     F0  C1000000    B0       O0        0  0.0  0.0  0.0  34.854  0.0  0.0   \n",
              "1     F0  C1000000    B0       O0        1  0.0  0.0  0.0  34.854  0.0  0.0   \n",
              "2     F0  C1000000    B0       O0        2  0.0  0.0  0.0  34.854  0.0  0.0   \n",
              "3     F0  C1000000    B0       O0        3  0.0  0.0  0.0  34.854  0.0  0.0   \n",
              "4     F0  C1000000    B0       O0        4  0.0  0.0  0.0  34.854  0.0  0.0   \n",
              "\n",
              "   S23  S24  S28  S30  S31  S34     S35  S36  S40  S43  S45  S46  S48  S50  \\\n",
              "0  0.0  0.0  0.0  0.0  0.0  0.0  25.522  0.0  0.0  0.0  0.0  0.0  0.0  0.0   \n",
              "1  0.0  0.0  0.0  0.0  0.0  0.0  25.522  0.0  0.0  0.0  0.0  0.0  0.0  0.0   \n",
              "2  0.0  0.0  0.0  0.0  0.0  0.0  25.522  0.0  0.0  0.0  0.0  0.0  0.0  0.0   \n",
              "3  0.0  0.0  0.0  0.0  0.0  0.0  25.522  0.0  0.0  0.0  0.0  0.0  0.0  0.0   \n",
              "4  0.0  0.0  0.0  0.0  0.0  0.0  25.522  0.0  0.0  0.0  0.0  0.0  0.0  0.0   \n",
              "\n",
              "      S51     S52  S56  New Density  N_Family  N_Code  N_Batch  N_Operator  \n",
              "0  22.463  17.161    0     0.912145         0       0        0           0  \n",
              "1  22.463  17.161    0     0.912160         0       0        0           0  \n",
              "2  22.463  17.161    0     0.912280         0       0        0           0  \n",
              "3  22.463  17.161    0     0.912303         0       0        0           0  \n",
              "4  22.463  17.161    0     0.912253         0       0        0           0  "
            ]
          },
          "metadata": {},
          "execution_count": 25
        }
      ]
    },
    {
      "cell_type": "code",
      "metadata": {
        "id": "pO1VDn-BWyt2"
      },
      "source": [
        "dsthinner.drop(['Family','Batch','Operator','Code'], axis=1, inplace=True) #exclui todas variáveis categóricas"
      ],
      "execution_count": null,
      "outputs": []
    },
    {
      "cell_type": "code",
      "metadata": {
        "colab": {
          "base_uri": "https://localhost:8080/"
        },
        "id": "sjcKeJRKWzO8",
        "outputId": "f0ecc857-eda4-47a2-e1c5-27a9bd21d74b"
      },
      "source": [
        "dsthinner.info()"
      ],
      "execution_count": null,
      "outputs": [
        {
          "output_type": "stream",
          "text": [
            "<class 'pandas.core.frame.DataFrame'>\n",
            "RangeIndex: 1350 entries, 0 to 1349\n",
            "Data columns (total 29 columns):\n",
            " #   Column       Non-Null Count  Dtype  \n",
            "---  ------       --------------  -----  \n",
            " 0   Replica      1350 non-null   int64  \n",
            " 1   S02          1350 non-null   float64\n",
            " 2   S05          1350 non-null   float64\n",
            " 3   S07          1350 non-null   float64\n",
            " 4   S15          1350 non-null   float64\n",
            " 5   S18          1350 non-null   float64\n",
            " 6   S19          1350 non-null   float64\n",
            " 7   S23          1350 non-null   float64\n",
            " 8   S24          1350 non-null   float64\n",
            " 9   S28          1350 non-null   float64\n",
            " 10  S30          1350 non-null   float64\n",
            " 11  S31          1350 non-null   float64\n",
            " 12  S34          1350 non-null   float64\n",
            " 13  S35          1350 non-null   float64\n",
            " 14  S36          1350 non-null   float64\n",
            " 15  S40          1350 non-null   float64\n",
            " 16  S43          1350 non-null   float64\n",
            " 17  S45          1350 non-null   float64\n",
            " 18  S46          1350 non-null   float64\n",
            " 19  S48          1350 non-null   float64\n",
            " 20  S50          1350 non-null   float64\n",
            " 21  S51          1350 non-null   float64\n",
            " 22  S52          1350 non-null   float64\n",
            " 23  S56          1350 non-null   int64  \n",
            " 24  New Density  1350 non-null   float64\n",
            " 25  N_Family     1350 non-null   int64  \n",
            " 26  N_Code       1350 non-null   int64  \n",
            " 27  N_Batch      1350 non-null   int64  \n",
            " 28  N_Operator   1350 non-null   int64  \n",
            "dtypes: float64(23), int64(6)\n",
            "memory usage: 306.0 KB\n"
          ],
          "name": "stdout"
        }
      ]
    },
    {
      "cell_type": "code",
      "metadata": {
        "id": "U77ktfm5W4Z7"
      },
      "source": [
        "treino=dsthinner.iloc[:675,:]\n",
        "teste=dsthinner.iloc[676:,:]"
      ],
      "execution_count": null,
      "outputs": []
    },
    {
      "cell_type": "code",
      "metadata": {
        "id": "H98HKIjKW6r8"
      },
      "source": [
        "X = treino.drop('New Density', axis=1)\n",
        "Y= treino['New Density']"
      ],
      "execution_count": null,
      "outputs": []
    },
    {
      "cell_type": "code",
      "metadata": {
        "colab": {
          "base_uri": "https://localhost:8080/",
          "height": 500
        },
        "id": "BKwjOmEZW8sw",
        "outputId": "a4b04625-0dd8-4b2e-d86a-3ae7243ca2b6"
      },
      "source": [
        "#graficos das variáveis em relação ao preço \n",
        "plt.figure(figsize = (10, 8))\n",
        "plt.scatter(Y,X['N_Family'],color='green', marker='+')\n",
        "plt.scatter(Y,X['N_Batch'],color='red',marker='.')  \n",
        "plt.scatter(Y,X['N_Operator'],color='purple',marker='o')"
      ],
      "execution_count": null,
      "outputs": [
        {
          "output_type": "execute_result",
          "data": {
            "text/plain": [
              "<matplotlib.collections.PathCollection at 0x7f83b47fd850>"
            ]
          },
          "metadata": {},
          "execution_count": 30
        },
        {
          "output_type": "display_data",
          "data": {
            "image/png": "[encoded data removed]",
            "text/plain": [
              "<Figure size 720x576 with 1 Axes>"
            ]
          },
          "metadata": {
            "needs_background": "light"
          }
        }
      ]
    },
    {
      "cell_type": "code",
      "metadata": {
        "id": "1YlXj4v6W_4y"
      },
      "source": [
        "from sklearn.model_selection import train_test_split\n",
        "X_train, X_test, Y_train, Y_test = train_test_split(X,Y, test_size = 0.3, random_state=2)"
      ],
      "execution_count": null,
      "outputs": []
    },
    {
      "cell_type": "code",
      "metadata": {
        "colab": {
          "base_uri": "https://localhost:8080/"
        },
        "id": "TVtWnfgLXAup",
        "outputId": "ab2f4e71-ce57-4a1a-c7d5-ee5dbbf38804"
      },
      "source": [
        "len(Y_test)"
      ],
      "execution_count": null,
      "outputs": [
        {
          "output_type": "execute_result",
          "data": {
            "text/plain": [
              "203"
            ]
          },
          "metadata": {},
          "execution_count": 32
        }
      ]
    },
    {
      "cell_type": "markdown",
      "metadata": {
        "id": "eFmQVXUxXEbK"
      },
      "source": [
        "Retorna método do RR. "
      ]
    },
    {
      "cell_type": "code",
      "metadata": {
        "id": "PGbIaC9IXENf"
      },
      "source": [
        "from sklearn.linear_model import LinearRegression\n",
        "reg=LinearRegression().fit(X_train, Y_train)"
      ],
      "execution_count": null,
      "outputs": []
    },
    {
      "cell_type": "code",
      "metadata": {
        "id": "2L6jA9xaXJ05",
        "colab": {
          "base_uri": "https://localhost:8080/"
        },
        "outputId": "2293f189-79b7-46dc-af85-f361c2cfbf5a"
      },
      "source": [
        "reg.score(X_test, Y_test)"
      ],
      "execution_count": null,
      "outputs": [
        {
          "output_type": "execute_result",
          "data": {
            "text/plain": [
              "0.9999804297924637"
            ]
          },
          "metadata": {},
          "execution_count": 34
        }
      ]
    }
  ]
}